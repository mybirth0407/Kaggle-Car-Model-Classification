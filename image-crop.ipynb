{
 "cells": [
  {
   "cell_type": "code",
   "execution_count": 15,
   "metadata": {},
   "outputs": [],
   "source": [
    "from PIL import Image\n",
    "import os\n",
    "import os.path\n",
    "import pandas as pd\n",
    "import numpy as np"
   ]
  },
  {
   "cell_type": "code",
   "execution_count": 16,
   "metadata": {},
   "outputs": [],
   "source": [
    "DATA_PATH = '.\\\\data\\\\'"
   ]
  },
  {
   "cell_type": "code",
   "execution_count": 48,
   "metadata": {},
   "outputs": [],
   "source": [
    "# 이미지 폴더 경로\n",
    "TRAIN_IMG_PATH = os.path.join(DATA_PATH, 'train')\n",
    "TEST_IMG_PATH = os.path.join(DATA_PATH, 'test')\n",
    "\n",
    "# 크롭된 이미지 폴더 경로\n",
    "CROPPED_TRAIN_IMG_PATH = os.path.join(DATA_PATH, 'cropped_train')\n",
    "if os.path.isdir(CROPPED_TRAIN_IMG_PATH) == False:\n",
    "    os.mkdir(CROPPED_TRAIN_IMG_PATH)\n",
    "CROPPED_TEST_IMG_PATH = os.path.join(DATA_PATH, 'cropped_test')\n",
    "if os.path.isdir(CROPPED_TEST_IMG_PATH) == False:\n",
    "    os.mkdir(CROPPED_TEST_IMG_PATH)\n",
    "    \n",
    "# CSV 파일 경로\n",
    "df_train = pd.read_csv(os.path.join(DATA_PATH, 'train.csv'))\n",
    "df_test = pd.read_csv(os.path.join(DATA_PATH, 'test.csv'))"
   ]
  },
  {
   "cell_type": "code",
   "execution_count": 43,
   "metadata": {},
   "outputs": [
    {
     "data": {
      "text/html": [
       "<div>\n",
       "<style scoped>\n",
       "    .dataframe tbody tr th:only-of-type {\n",
       "        vertical-align: middle;\n",
       "    }\n",
       "\n",
       "    .dataframe tbody tr th {\n",
       "        vertical-align: top;\n",
       "    }\n",
       "\n",
       "    .dataframe thead th {\n",
       "        text-align: right;\n",
       "    }\n",
       "</style>\n",
       "<table border=\"1\" class=\"dataframe\">\n",
       "  <thead>\n",
       "    <tr style=\"text-align: right;\">\n",
       "      <th></th>\n",
       "      <th>img_file</th>\n",
       "      <th>bbox_x1</th>\n",
       "      <th>bbox_y1</th>\n",
       "      <th>bbox_x2</th>\n",
       "      <th>bbox_y2</th>\n",
       "      <th>class</th>\n",
       "    </tr>\n",
       "  </thead>\n",
       "  <tbody>\n",
       "    <tr>\n",
       "      <th>0</th>\n",
       "      <td>train_00001.jpg</td>\n",
       "      <td>1</td>\n",
       "      <td>80</td>\n",
       "      <td>641</td>\n",
       "      <td>461</td>\n",
       "      <td>108</td>\n",
       "    </tr>\n",
       "    <tr>\n",
       "      <th>1</th>\n",
       "      <td>train_00002.jpg</td>\n",
       "      <td>57</td>\n",
       "      <td>53</td>\n",
       "      <td>293</td>\n",
       "      <td>236</td>\n",
       "      <td>71</td>\n",
       "    </tr>\n",
       "    <tr>\n",
       "      <th>2</th>\n",
       "      <td>train_00003.jpg</td>\n",
       "      <td>35</td>\n",
       "      <td>42</td>\n",
       "      <td>227</td>\n",
       "      <td>160</td>\n",
       "      <td>76</td>\n",
       "    </tr>\n",
       "    <tr>\n",
       "      <th>3</th>\n",
       "      <td>train_00004.jpg</td>\n",
       "      <td>10</td>\n",
       "      <td>21</td>\n",
       "      <td>254</td>\n",
       "      <td>165</td>\n",
       "      <td>188</td>\n",
       "    </tr>\n",
       "    <tr>\n",
       "      <th>4</th>\n",
       "      <td>train_00005.jpg</td>\n",
       "      <td>1</td>\n",
       "      <td>67</td>\n",
       "      <td>772</td>\n",
       "      <td>573</td>\n",
       "      <td>44</td>\n",
       "    </tr>\n",
       "  </tbody>\n",
       "</table>\n",
       "</div>"
      ],
      "text/plain": [
       "          img_file  bbox_x1  bbox_y1  bbox_x2  bbox_y2  class\n",
       "0  train_00001.jpg        1       80      641      461    108\n",
       "1  train_00002.jpg       57       53      293      236     71\n",
       "2  train_00003.jpg       35       42      227      160     76\n",
       "3  train_00004.jpg       10       21      254      165    188\n",
       "4  train_00005.jpg        1       67      772      573     44"
      ]
     },
     "execution_count": 43,
     "metadata": {},
     "output_type": "execute_result"
    }
   ],
   "source": [
    "df_train.head(5)"
   ]
  },
  {
   "cell_type": "code",
   "execution_count": 50,
   "metadata": {},
   "outputs": [
    {
     "name": "stdout",
     "output_type": "stream",
     "text": [
      "0\n",
      "5000\n",
      "10000\n"
     ]
    }
   ],
   "source": [
    "for i, data in enumerate(df_train.values):\n",
    "    if i % 1000 == 0:\n",
    "        print(i)\n",
    "    img = Image.open(os.path.join(TRAIN_IMG_PATH, data[0]))\n",
    "    cropped_img = img.crop((data[1:-1]))\n",
    "#     cropped_img.show()\n",
    "    cropped_img.save(os.path.join(CROPPED_TRAIN_IMG_PATH, data[0]))"
   ]
  },
  {
   "cell_type": "code",
   "execution_count": 52,
   "metadata": {},
   "outputs": [
    {
     "name": "stdout",
     "output_type": "stream",
     "text": [
      "0\n",
      "5000\n"
     ]
    }
   ],
   "source": [
    "for i, data in enumerate(df_test.values):\n",
    "    if i % 5000 == 0:\n",
    "        print(i)\n",
    "    img = Image.open(os.path.join(TEST_IMG_PATH, data[0]))\n",
    "    cropped_img = img.crop((data[1:]))\n",
    "#     cropped_img.show()\n",
    "    cropped_img.save(os.path.join(CROPPED_TEST_IMG_PATH, data[0]))"
   ]
  },
  {
   "cell_type": "code",
   "execution_count": null,
   "metadata": {},
   "outputs": [],
   "source": []
  }
 ],
 "metadata": {
  "kernelspec": {
   "display_name": "Python 3",
   "language": "python",
   "name": "python3"
  },
  "language_info": {
   "codemirror_mode": {
    "name": "ipython",
    "version": 3
   },
   "file_extension": ".py",
   "mimetype": "text/x-python",
   "name": "python",
   "nbconvert_exporter": "python",
   "pygments_lexer": "ipython3",
   "version": "3.6.8"
  }
 },
 "nbformat": 4,
 "nbformat_minor": 2
}
