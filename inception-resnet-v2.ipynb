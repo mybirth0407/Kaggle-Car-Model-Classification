{
 "cells": [
  {
   "cell_type": "code",
   "execution_count": 1,
   "metadata": {},
   "outputs": [
    {
     "name": "stderr",
     "output_type": "stream",
     "text": [
      "Using TensorFlow backend.\n"
     ]
    },
    {
     "data": {
      "text/plain": [
       "'channels_last'"
      ]
     },
     "execution_count": 1,
     "metadata": {},
     "output_type": "execute_result"
    }
   ],
   "source": [
    "import gc\n",
    "import os\n",
    "import warnings\n",
    "import numpy as np \n",
    "import pandas as pd\n",
    "import seaborn as sns\n",
    "import matplotlib.pyplot as plt\n",
    "from tqdm import tqdm\n",
    "import multiprocessing\n",
    "\n",
    "from keras import backend as K\n",
    "warnings.filterwarnings(action='ignore')\n",
    "\n",
    "K.image_data_format()"
   ]
  },
  {
   "cell_type": "code",
   "execution_count": 2,
   "metadata": {},
   "outputs": [],
   "source": [
    "params = {\n",
    "    # Generator Parameter\n",
    "    'random_state': 2,\n",
    "    'rotation_range': 10,\n",
    "#     'rescale': 1./255,\n",
    "    'width_shift_range': 0.20,\n",
    "    'height_shift_range': 0.20,\n",
    "    'shear_range': 0.20,\n",
    "    'zoom_range': 0.20,\n",
    "    'horizontal_flip': True,\n",
    "    'brightness_range': (0.7, 1.5),\n",
    "    # Model Parameter\n",
    "    'img_size': (299, 299),\n",
    "    'input_shape': (299, 299, 3),\n",
    "#     'nb_train_samples': len(X_train),\n",
    "#     'nb_validation_samples': len(X_val),\n",
    "#     'nb_test_samples': len(df_test),\n",
    "#     'train_epochs': 10\n",
    "    'batch_size': 16,\n",
    "    'nb_workers': multiprocessing.cpu_count() // 2\n",
    "}"
   ]
  },
  {
   "cell_type": "code",
   "execution_count": 3,
   "metadata": {},
   "outputs": [
    {
     "data": {
      "text/plain": [
       "['class.csv',\n",
       " 'cropped_test',\n",
       " 'cropped_train',\n",
       " 'resnet_0.83881',\n",
       " 'sample_submission.csv',\n",
       " 'submission.csv',\n",
       " 'test',\n",
       " 'test.csv',\n",
       " 'train',\n",
       " 'train.csv']"
      ]
     },
     "execution_count": 3,
     "metadata": {},
     "output_type": "execute_result"
    }
   ],
   "source": [
    "# 혹 다른 데이터 셋 추가(Pretrained Model Weights)로 인해 PATH가 변경된다면 아래 PATH를 수정\n",
    "DATA_PATH = 'E:\\\\data\\\\2019-3rd-ml-month-with-kakr'\n",
    "os.listdir(DATA_PATH)"
   ]
  },
  {
   "cell_type": "code",
   "execution_count": 4,
   "metadata": {},
   "outputs": [],
   "source": [
    "# 이미지 폴더 경로\n",
    "TRAIN_IMG_PATH = os.path.join(DATA_PATH, 'cropped_train')\n",
    "TEST_IMG_PATH = os.path.join(DATA_PATH, 'cropped_test')\n",
    "\n",
    "# CSV 파일 경로\n",
    "df_train = pd.read_csv(os.path.join(DATA_PATH, 'train.csv'))\n",
    "df_test = pd.read_csv(os.path.join(DATA_PATH, 'test.csv'))\n",
    "df_class = pd.read_csv(os.path.join(DATA_PATH, 'class.csv'))"
   ]
  },
  {
   "cell_type": "code",
   "execution_count": 5,
   "metadata": {},
   "outputs": [],
   "source": [
    "df_train[\"class\"] = df_train[\"class\"].astype('str')\n",
    "\n",
    "df_train = df_train[['img_file', 'class']]\n",
    "df_test = df_test[['img_file']]"
   ]
  },
  {
   "cell_type": "code",
   "execution_count": 6,
   "metadata": {},
   "outputs": [],
   "source": [
    "from sklearn.model_selection import train_test_split\n",
    "\n",
    "def train_val_split(params, df_train):   \n",
    "\n",
    "    its = np.arange(df_train.shape[0])\n",
    "    train_idx, val_idx = train_test_split(its, train_size=0.8, random_state=params['random_state'])\n",
    "\n",
    "    X_train = df_train.iloc[train_idx, :]\n",
    "    X_val = df_train.iloc[val_idx, :]\n",
    "    \n",
    "    params['random_state'] += 10\n",
    "    \n",
    "    return X_train, X_val\n",
    "\n",
    "def train_val_split_fixed(params, df_train, i):\n",
    "    its = np.arrange(df_train.shape[0])\n",
    "    chunks = [its[j::n] for j in range(5)]\n",
    "    \n",
    "    X_val = df_train[chunks[i]]\n",
    "    chunks.pop(i)\n",
    "    X_train = df_train[np.reshape(chunks, -1)]\n",
    "    \n",
    "    return X_train, X_val"
   ]
  },
  {
   "cell_type": "code",
   "execution_count": 7,
   "metadata": {},
   "outputs": [],
   "source": [
    "from keras.applications.inception_resnet_v2 import InceptionResNetV2, preprocess_input\n",
    "# from keras.applications.resnet50 import ResNet50, preprocess_input\n",
    "from keras.preprocessing.image import ImageDataGenerator\n",
    "\n",
    "def make_generator(params, X_train, X_val):\n",
    "    # Define Generator config\n",
    "    train_datagen = ImageDataGenerator(\n",
    "        rotation_range=params['rotation_range'],\n",
    "    #     rescale=params['rescale'],\n",
    "        width_shift_range=params['width_shift_range'],\n",
    "        height_shift_range=params['height_shift_range'],\n",
    "        shear_range=params['shear_range'],\n",
    "        zoom_range=params['zoom_range'],\n",
    "        horizontal_flip=params['horizontal_flip'],\n",
    "        brightness_range=params['brightness_range'],\n",
    "        preprocessing_function=preprocess_input)\n",
    "\n",
    "    val_datagen = ImageDataGenerator(preprocessing_function=preprocess_input)\n",
    "\n",
    "    # Make Generator\n",
    "    train_generator = train_datagen.flow_from_dataframe(\n",
    "        dataframe=X_train, \n",
    "        directory=TRAIN_IMG_PATH,\n",
    "        x_col='img_file',\n",
    "        y_col='class',\n",
    "        target_size=params['img_size'],\n",
    "        color_mode='rgb',\n",
    "        class_mode='categorical',\n",
    "        batch_size=params['batch_size'],\n",
    "        seed=42\n",
    "    )\n",
    "\n",
    "    validation_generator = val_datagen.flow_from_dataframe(\n",
    "        dataframe=X_val, \n",
    "        directory=TRAIN_IMG_PATH,\n",
    "        x_col='img_file',\n",
    "        y_col='class',\n",
    "        target_size=params['img_size'],\n",
    "        color_mode='rgb',\n",
    "        class_mode='categorical',\n",
    "        batch_size=params['batch_size'],\n",
    "        shuffle=False\n",
    "    )\n",
    "    return train_generator, validation_generator"
   ]
  },
  {
   "cell_type": "code",
   "execution_count": 8,
   "metadata": {},
   "outputs": [],
   "source": [
    "def get_steps(num_samples, batch_size):\n",
    "    if (num_samples % batch_size) > 0 :\n",
    "        return (num_samples // batch_size) + 1\n",
    "    else:\n",
    "        return num_samples // batch_size"
   ]
  },
  {
   "cell_type": "code",
   "execution_count": 9,
   "metadata": {},
   "outputs": [
    {
     "name": "stdout",
     "output_type": "stream",
     "text": [
      "WARNING:tensorflow:From C:\\Users\\mybirth0407\\AppData\\Local\\Continuum\\anaconda3\\lib\\site-packages\\tensorflow\\python\\framework\\op_def_library.py:263: colocate_with (from tensorflow.python.framework.ops) is deprecated and will be removed in a future version.\n",
      "Instructions for updating:\n",
      "Colocations handled automatically by placer.\n"
     ]
    }
   ],
   "source": [
    "cnn_model = InceptionResNetV2(include_top=False, input_shape=params['input_shape'])\n",
    "# cnn_model.summary()"
   ]
  },
  {
   "cell_type": "code",
   "execution_count": 10,
   "metadata": {},
   "outputs": [
    {
     "name": "stdout",
     "output_type": "stream",
     "text": [
      "_________________________________________________________________\n",
      "Layer (type)                 Output Shape              Param #   \n",
      "=================================================================\n",
      "inception_resnet_v2 (Model)  (None, 8, 8, 1536)        54336736  \n",
      "_________________________________________________________________\n",
      "global_average_pooling2d_1 ( (None, 1536)              0         \n",
      "_________________________________________________________________\n",
      "dense_1 (Dense)              (None, 196)               301252    \n",
      "=================================================================\n",
      "Total params: 54,637,988\n",
      "Trainable params: 54,577,444\n",
      "Non-trainable params: 60,544\n",
      "_________________________________________________________________\n"
     ]
    }
   ],
   "source": [
    "from keras.models import Sequential, Model\n",
    "from keras.layers import Dense, Dropout, Flatten, Activation, Conv2D, GlobalAveragePooling2D\n",
    "\n",
    "# for layer in cnn_model.layers:\n",
    "#     layer.trainable = False\n",
    "#     print(layer,layer.trainable)\n",
    "\n",
    "model = Sequential()\n",
    "model.add(cnn_model)\n",
    "model.add(GlobalAveragePooling2D())\n",
    "model.add(Dense(196, activation='softmax', kernel_initializer='he_normal'))\n",
    "model.summary()"
   ]
  },
  {
   "cell_type": "code",
   "execution_count": 11,
   "metadata": {},
   "outputs": [],
   "source": [
    "model.compile(optimizer='adam', loss='categorical_crossentropy', metrics=['acc'])"
   ]
  },
  {
   "cell_type": "code",
   "execution_count": null,
   "metadata": {},
   "outputs": [
    {
     "name": "stdout",
     "output_type": "stream",
     "text": [
      "{'random_state': 2, 'rotation_range': 10, 'width_shift_range': 0.2, 'height_shift_range': 0.2, 'shear_range': 0.2, 'zoom_range': 0.2, 'horizontal_flip': True, 'brightness_range': (0.7, 1.5), 'img_size': (299, 299), 'input_shape': (299, 299, 3), 'batch_size': 16, 'nb_workers': 6}\n",
      "Found 8012 images belonging to 196 classes.\n",
      "Found 2004 images belonging to 196 classes.\n",
      "WARNING:tensorflow:From C:\\Users\\mybirth0407\\AppData\\Local\\Continuum\\anaconda3\\lib\\site-packages\\tensorflow\\python\\ops\\math_ops.py:3066: to_int32 (from tensorflow.python.ops.math_ops) is deprecated and will be removed in a future version.\n",
      "Instructions for updating:\n",
      "Use tf.cast instead.\n",
      "Epoch 1/10\n",
      "501/501 [==============================] - 411s 821ms/step - loss: 5.2871 - acc: 0.0089 - val_loss: 5.2195 - val_acc: 0.0105\n",
      "\n",
      "Epoch 00001: val_acc improved from -inf to 0.01048, saving model to E:\\data\\2019-3rd-ml-month-with-kakr\\inception_resnet_v2_ep001_vloss-5.2195_vacc-0.0105.h5\n",
      "Epoch 2/10\n",
      "501/501 [==============================] - 364s 726ms/step - loss: 5.1645 - acc: 0.0126 - val_loss: 12.4371 - val_acc: 0.0050\n",
      "\n",
      "Epoch 00002: val_acc did not improve from 0.01048\n",
      "Epoch 3/10\n",
      "501/501 [==============================] - 367s 732ms/step - loss: 4.9606 - acc: 0.0247 - val_loss: 6.5750 - val_acc: 0.0180\n",
      "\n",
      "Epoch 00003: val_acc improved from 0.01048 to 0.01796, saving model to E:\\data\\2019-3rd-ml-month-with-kakr\\inception_resnet_v2_ep003_vloss-6.5750_vacc-0.0180.h5\n",
      "Epoch 4/10\n",
      "501/501 [==============================] - 358s 715ms/step - loss: 4.6470 - acc: 0.0401 - val_loss: 4.7131 - val_acc: 0.0414\n",
      "\n",
      "Epoch 00004: val_acc improved from 0.01796 to 0.04142, saving model to E:\\data\\2019-3rd-ml-month-with-kakr\\inception_resnet_v2_ep004_vloss-4.7131_vacc-0.0414.h5\n",
      "Epoch 5/10\n",
      "501/501 [==============================] - 359s 717ms/step - loss: 4.2470 - acc: 0.0713 - val_loss: 3.9994 - val_acc: 0.1073\n",
      "\n",
      "Epoch 00005: val_acc improved from 0.04142 to 0.10729, saving model to E:\\data\\2019-3rd-ml-month-with-kakr\\inception_resnet_v2_ep005_vloss-3.9994_vacc-0.1073.h5\n",
      "Epoch 6/10\n",
      "500/501 [============================>.] - ETA: 0s - loss: 3.6142 - acc: 0.1469"
     ]
    }
   ],
   "source": [
    "%%time\n",
    "from keras.callbacks import ModelCheckpoint, EarlyStopping\n",
    "\n",
    "filepath = os.path.join(DATA_PATH, 'inception_resnet_v2_ep{epoch:03d}_vloss-{val_loss:.4f}_vacc-{val_acc:.4f}.h5')\n",
    "\n",
    "checkpoint = ModelCheckpoint(filepath, monitor='val_acc', verbose=1, save_best_only=True)\n",
    "# earlystop = EarlyStopping(monitor='val_acc', min_delta=0, patience=5, verbose=1, mode='auto')\n",
    "\n",
    "# callback_list = [checkpoint, earlystop]\n",
    "callbacks = [checkpoint]\n",
    "\n",
    "\n",
    "histories = []\n",
    "\n",
    "for i in range(5):\n",
    "    print(params)\n",
    "    \n",
    "    X_train, X_val = train_val_split(params, df_train)\n",
    "    train_generator, validation_generator = make_generator(params, X_train, X_val)\n",
    "    \n",
    "    params.update({\n",
    "        'nb_train_samples': len(X_train),\n",
    "        'nb_validation_samples': len(X_val)\n",
    "    })\n",
    "    \n",
    "    histories.append(\n",
    "        model.fit_generator(\n",
    "            train_generator,\n",
    "            steps_per_epoch=get_steps(params['nb_train_samples'], params['batch_size']),\n",
    "            epochs=(2 * i) + 10,\n",
    "            validation_data=validation_generator,\n",
    "            validation_steps=get_steps(params['nb_validation_samples'], params['batch_size']),\n",
    "            callbacks=callbacks,\n",
    "            workers=params['nb_workers'],\n",
    "            initial_epoch=2 * i)\n",
    ")\n",
    "gc.collect()"
   ]
  },
  {
   "cell_type": "code",
   "execution_count": 16,
   "metadata": {},
   "outputs": [
    {
     "data": {
      "image/png": "[encoded data removed]",
      "text/plain": [
       "<Figure size 432x288 with 1 Axes>"
      ]
     },
     "metadata": {
      "needs_background": "light"
     },
     "output_type": "display_data"
    }
   ],
   "source": [
    "# Plot training & validation accuracy values \n",
    "plt.plot(history.history['acc'])\n",
    "plt.plot(history.history['val_acc'])\n",
    "plt.title('Model accuracy')\n",
    "plt.ylabel('Accuracy')\n",
    "plt.xlabel('Epoch')\n",
    "plt.legend(['Train', 'Val'], loc='upper left')\n",
    "plt.show()"
   ]
  },
  {
   "cell_type": "code",
   "execution_count": 17,
   "metadata": {},
   "outputs": [
    {
     "data": {
      "image/png": "[encoded data removed]",
      "text/plain": [
       "<Figure size 432x288 with 1 Axes>"
      ]
     },
     "metadata": {
      "needs_background": "light"
     },
     "output_type": "display_data"
    }
   ],
   "source": [
    "# Plot training & validation loss values\n",
    "plt.plot(history.history['loss'])\n",
    "plt.plot(history.history['val_loss'])\n",
    "plt.title('Model loss')\n",
    "plt.ylabel('Loss')\n",
    "plt.xlabel('Epoch')\n",
    "plt.legend(['Train', 'Val'], loc='upper left')\n",
    "plt.show()"
   ]
  },
  {
   "cell_type": "code",
   "execution_count": 13,
   "metadata": {},
   "outputs": [
    {
     "name": "stdout",
     "output_type": "stream",
     "text": [
      "Found 6169 images.\n",
      "155/155 [==============================] - 30s 191ms/step\n",
      "Wall time: 1min 17s\n"
     ]
    }
   ],
   "source": [
    "%%time\n",
    "from keras.models import load_model\n",
    "\n",
    "params.update({\n",
    "    'nb_test_samples': len(df_test)\n",
    "})\n",
    "\n",
    "test_datagen = ImageDataGenerator(preprocessing_function=preprocess_input)\n",
    "\n",
    "test_generator = test_datagen.flow_from_dataframe(\n",
    "    dataframe=df_test,\n",
    "    directory=TEST_IMG_PATH,\n",
    "    x_col='img_file',\n",
    "    y_col=None,\n",
    "    target_size=params['img_size'],\n",
    "    color_mode='rgb',\n",
    "    class_mode=None,\n",
    "    batch_size=params['batch_size'],\n",
    "    shuffle=False)\n",
    "\n",
    "model = load_model(os.path.join(DATA_PATH, 'resnet50_val_ep04_loss-0.1790_acc-0.9421.h5'))\n",
    "\n",
    "prediction = model.predict_generator(\n",
    "    generator = test_generator,\n",
    "    steps = get_steps(params['nb_test_samples'], params['batch_size']),\n",
    "    verbose=1,\n",
    "    workers=params['nb_workers']\n",
    ")"
   ]
  },
  {
   "cell_type": "code",
   "execution_count": 14,
   "metadata": {},
   "outputs": [
    {
     "data": {
      "text/html": [
       "<div>\n",
       "<style scoped>\n",
       "    .dataframe tbody tr th:only-of-type {\n",
       "        vertical-align: middle;\n",
       "    }\n",
       "\n",
       "    .dataframe tbody tr th {\n",
       "        vertical-align: top;\n",
       "    }\n",
       "\n",
       "    .dataframe thead th {\n",
       "        text-align: right;\n",
       "    }\n",
       "</style>\n",
       "<table border=\"1\" class=\"dataframe\">\n",
       "  <thead>\n",
       "    <tr style=\"text-align: right;\">\n",
       "      <th></th>\n",
       "      <th>img_file</th>\n",
       "      <th>class</th>\n",
       "    </tr>\n",
       "  </thead>\n",
       "  <tbody>\n",
       "    <tr>\n",
       "      <th>0</th>\n",
       "      <td>test_00001.jpg</td>\n",
       "      <td>124</td>\n",
       "    </tr>\n",
       "    <tr>\n",
       "      <th>1</th>\n",
       "      <td>test_00002.jpg</td>\n",
       "      <td>98</td>\n",
       "    </tr>\n",
       "    <tr>\n",
       "      <th>2</th>\n",
       "      <td>test_00003.jpg</td>\n",
       "      <td>157</td>\n",
       "    </tr>\n",
       "    <tr>\n",
       "      <th>3</th>\n",
       "      <td>test_00004.jpg</td>\n",
       "      <td>94</td>\n",
       "    </tr>\n",
       "    <tr>\n",
       "      <th>4</th>\n",
       "      <td>test_00005.jpg</td>\n",
       "      <td>18</td>\n",
       "    </tr>\n",
       "  </tbody>\n",
       "</table>\n",
       "</div>"
      ],
      "text/plain": [
       "         img_file class\n",
       "0  test_00001.jpg   124\n",
       "1  test_00002.jpg    98\n",
       "2  test_00003.jpg   157\n",
       "3  test_00004.jpg    94\n",
       "4  test_00005.jpg    18"
      ]
     },
     "execution_count": 14,
     "metadata": {},
     "output_type": "execute_result"
    }
   ],
   "source": [
    "predicted_class_indices=np.argmax(prediction, axis=1)\n",
    "\n",
    "# Generator class dictionary mapping\n",
    "labels = (train_generator.class_indices)\n",
    "labels = dict((v, k) for k,v in labels.items())\n",
    "predictions = [labels[k] for k in predicted_class_indices]\n",
    "\n",
    "submission = pd.read_csv(os.path.join(DATA_PATH, 'sample_submission.csv'))\n",
    "submission['class'] = predictions\n",
    "submission.to_csv(os.path.join(DATA_PATH, 'resnet50_val_ep04_loss-0.1790_acc-0.9421.csv'), index=False)\n",
    "submission.head()"
   ]
  },
  {
   "cell_type": "markdown",
   "metadata": {},
   "source": [
    "#### **Reference:**\n",
    "https://medium.com/@vijayabhaskar96/tutorial-on-keras-flow-from-dataframe-1fd4493d237c  \n",
    "https://keras.io/  \n",
    "http://www.arxiv.org/abs/1512.03385  \n",
    "https://pillow.readthedocs.io/en/stable/  \n",
    "https://www.kaggle.com/guglielmocamporese/macro-f1-score-keras"
   ]
  }
 ],
 "metadata": {
  "kernelspec": {
   "display_name": "Python 3",
   "language": "python",
   "name": "python3"
  },
  "language_info": {
   "codemirror_mode": {
    "name": "ipython",
    "version": 3
   },
   "file_extension": ".py",
   "mimetype": "text/x-python",
   "name": "python",
   "nbconvert_exporter": "python",
   "pygments_lexer": "ipython3",
   "version": "3.6.8"
  }
 },
 "nbformat": 4,
 "nbformat_minor": 2
}
