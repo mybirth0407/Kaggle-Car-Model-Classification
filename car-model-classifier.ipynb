{
 "cells": [
  {
   "cell_type": "code",
   "execution_count": 1,
   "metadata": {},
   "outputs": [
    {
     "name": "stderr",
     "output_type": "stream",
     "text": [
      "Using TensorFlow backend.\n"
     ]
    },
    {
     "data": {
      "text/plain": [
       "'channels_last'"
      ]
     },
     "execution_count": 1,
     "metadata": {},
     "output_type": "execute_result"
    }
   ],
   "source": [
    "import gc\n",
    "import os\n",
    "import warnings\n",
    "import numpy as np \n",
    "import pandas as pd\n",
    "import seaborn as sns\n",
    "import matplotlib.pyplot as plt\n",
    "from tqdm import tqdm\n",
    "\n",
    "from keras import backend as K\n",
    "warnings.filterwarnings(action='ignore')\n",
    "\n",
    "K.image_data_format()"
   ]
  },
  {
   "cell_type": "markdown",
   "metadata": {},
   "source": [
    "### **File load**"
   ]
  },
  {
   "cell_type": "markdown",
   "metadata": {},
   "source": [
    "주어진 파일을 확인하고 로드합니다. "
   ]
  },
  {
   "cell_type": "code",
   "execution_count": 2,
   "metadata": {},
   "outputs": [
    {
     "data": {
      "text/plain": [
       "['.ipynb_checkpoints',\n",
       " 'class.csv',\n",
       " 'cropped_test',\n",
       " 'cropped_train',\n",
       " 'sample_submission.csv',\n",
       " 'test',\n",
       " 'test.csv',\n",
       " 'train',\n",
       " 'train.csv']"
      ]
     },
     "execution_count": 2,
     "metadata": {},
     "output_type": "execute_result"
    }
   ],
   "source": [
    "# 혹 다른 데이터 셋 추가(Pretrained Model Weights)로 인해 PATH가 변경된다면 아래 PATH를 수정\n",
    "DATA_PATH = '.\\\\data\\\\'\n",
    "os.listdir(DATA_PATH)"
   ]
  },
  {
   "cell_type": "markdown",
   "metadata": {},
   "source": [
    "Data Description에 있는 파일 세부 정보입니다.\n",
    "* **train.csv** - Train 셋의 이미지 파일명, 바운딩박스 좌표, 차종정보\n",
    "* **test.csv** - Test 셋의 이미지 파일명, 바운딩박스 좌표, 차종정보\n",
    "* **submission.csv** - Test셋과 대응되는 제출 파일\n",
    "* **class.csv** - 데이터 셋의 class 컬럼과 대응되는 차종의 레이블\n",
    "* **train** - Train 이미지 파일\n",
    "* **test** - Test 이미지 파일"
   ]
  },
  {
   "cell_type": "code",
   "execution_count": 3,
   "metadata": {},
   "outputs": [],
   "source": [
    "# 이미지 폴더 경로\n",
    "TRAIN_IMG_PATH = os.path.join(DATA_PATH, 'cropped_train')\n",
    "TEST_IMG_PATH = os.path.join(DATA_PATH, 'cropped_test')\n",
    "\n",
    "# CSV 파일 경로\n",
    "df_train = pd.read_csv(os.path.join(DATA_PATH, 'train.csv'))\n",
    "df_test = pd.read_csv(os.path.join(DATA_PATH, 'test.csv'))\n",
    "df_class = pd.read_csv(os.path.join(DATA_PATH, 'class.csv'))"
   ]
  },
  {
   "cell_type": "markdown",
   "metadata": {},
   "source": [
    "### **Train_test_split**"
   ]
  },
  {
   "cell_type": "code",
   "execution_count": 4,
   "metadata": {},
   "outputs": [
    {
     "name": "stdout",
     "output_type": "stream",
     "text": [
      "[4766 4851  533 ... 5390  860 7270]\n",
      "[1617 9936 2168 ... 1642 9177 4210]\n",
      "\n",
      "(8012, 2)\n",
      "(2004, 2)\n",
      "(6169, 1)\n"
     ]
    }
   ],
   "source": [
    "from sklearn.model_selection import train_test_split\n",
    "\n",
    "df_train[\"class\"] = df_train[\"class\"].astype('str')\n",
    "\n",
    "df_train = df_train[['img_file', 'class']]\n",
    "df_test = df_test[['img_file']]\n",
    "\n",
    "its = np.arange(df_train.shape[0])\n",
    "train_idx, val_idx = train_test_split(its, train_size = 0.8, random_state=42)\n",
    "\n",
    "X_train = df_train.iloc[train_idx, :]\n",
    "X_val = df_train.iloc[val_idx, :]\n",
    "\n",
    "print(train_idx)\n",
    "print(val_idx)\n",
    "print()\n",
    "print(X_train.shape)\n",
    "print(X_val.shape)\n",
    "print(df_test.shape)"
   ]
  },
  {
   "cell_type": "markdown",
   "metadata": {},
   "source": [
    "사이킷런의 train_test_split함수를 활용하여 Train 셋을 Train / validation 셋으로 나눴습니다.   \n",
    "혹시나 해서 말씀드리지만, train_test_split()이라고 해서 test라는 글자에 너무 많은 의미를 부여하지는 않아도 됩니다.  \n",
    "우리가 원하는 건 특정 array를 원하는 비율로 나누기만 하면 되니까요."
   ]
  },
  {
   "cell_type": "code",
   "execution_count": 12,
   "metadata": {},
   "outputs": [],
   "source": [
    "import cv2\n",
    "\n",
    "def color_change(image):\n",
    "#     print(type(image))\n",
    "#     image = cv2.imread(image, cv2.IMREAD_COLOR)\n",
    "    b, g, r = cv2.split(image)\n",
    "    rgb_set = ([r, g, b], [r, b, g], [g, r, b], [g, b, r], [b, r, g], [b, g, r])\n",
    "    converted_img = cv2.merge(rgb_set[np.random.randint(6)])\n",
    "    return converted_img"
   ]
  },
  {
   "cell_type": "code",
   "execution_count": 13,
   "metadata": {},
   "outputs": [
    {
     "name": "stdout",
     "output_type": "stream",
     "text": [
      "Found 8012 images belonging to 196 classes.\n",
      "Found 2004 images belonging to 196 classes.\n"
     ]
    }
   ],
   "source": [
    "# from keras.applications.inception_resnet_v2 import InceptionResNetV2, preprocess_input\n",
    "from keras.applications.resnet50 import ResNet50, preprocess_input\n",
    "from keras.preprocessing.image import ImageDataGenerator\n",
    "\n",
    "# Parameter\n",
    "img_size = (224, 224)\n",
    "nb_train_samples = len(X_train)\n",
    "nb_validation_samples = len(X_val)\n",
    "nb_test_samples = len(df_test)\n",
    "epochs = 30\n",
    "batch_size = 40\n",
    "\n",
    "# Define Generator config\n",
    "train_datagen = ImageDataGenerator(\n",
    "    horizontal_flip = True, \n",
    "    vertical_flip = False,\n",
    "    zoom_range=0.10,\n",
    "    preprocessing_function=color_change)\n",
    "\n",
    "val_datagen = ImageDataGenerator(preprocessing_function=preprocess_input)\n",
    "\n",
    "# Make Generator\n",
    "train_generator = train_datagen.flow_from_dataframe(\n",
    "    dataframe=X_train, \n",
    "    directory=TRAIN_IMG_PATH,\n",
    "    x_col='img_file',\n",
    "    y_col='class',\n",
    "    target_size=img_size,\n",
    "    color_mode='rgb',\n",
    "    class_mode='categorical',\n",
    "    batch_size=batch_size,\n",
    "    seed=42\n",
    ")\n",
    "\n",
    "validation_generator = val_datagen.flow_from_dataframe(\n",
    "    dataframe=X_val, \n",
    "    directory=TRAIN_IMG_PATH,\n",
    "    x_col='img_file',\n",
    "    y_col='class',\n",
    "    target_size=img_size,\n",
    "    color_mode='rgb',\n",
    "    class_mode='categorical',\n",
    "    batch_size=batch_size,\n",
    "    shuffle=False\n",
    ")"
   ]
  },
  {
   "cell_type": "code",
   "execution_count": 14,
   "metadata": {},
   "outputs": [],
   "source": [
    "cnn_model = ResNet50(include_top=False, input_shape=(224, 224, 3))\n",
    "# cnn_model.summary()"
   ]
  },
  {
   "cell_type": "code",
   "execution_count": 15,
   "metadata": {},
   "outputs": [
    {
     "name": "stdout",
     "output_type": "stream",
     "text": [
      "_________________________________________________________________\n",
      "Layer (type)                 Output Shape              Param #   \n",
      "=================================================================\n",
      "resnet50 (Model)             (None, 7, 7, 2048)        23587712  \n",
      "_________________________________________________________________\n",
      "global_average_pooling2d_2 ( (None, 2048)              0         \n",
      "_________________________________________________________________\n",
      "dense_2 (Dense)              (None, 196)               401604    \n",
      "=================================================================\n",
      "Total params: 23,989,316\n",
      "Trainable params: 23,936,196\n",
      "Non-trainable params: 53,120\n",
      "_________________________________________________________________\n"
     ]
    }
   ],
   "source": [
    "from keras.models import Sequential, Model\n",
    "from keras.layers import Dense, Dropout, Flatten, Activation, Conv2D, GlobalAveragePooling2D\n",
    "\n",
    "# for layer in cnn_model.layers:\n",
    "#     layer.trainable = False\n",
    "#     print(layer,layer.trainable)\n",
    "\n",
    "model = Sequential()\n",
    "model.add(cnn_model)\n",
    "model.add(GlobalAveragePooling2D())\n",
    "model.add(Dense(196, activation='softmax', kernel_initializer='he_normal'))\n",
    "model.summary()"
   ]
  },
  {
   "cell_type": "markdown",
   "metadata": {},
   "source": [
    "Pretrained Model을 사용할 때 한가지 주의할 점이 있습니다. Pretrained 모델은 경우에 따라 다양하게 사용될 수 있기 때문에 Model output부분을 잘라버린 채 로드 되는 경우가 있습니다.(include_top=False) 이 경우에는 직접 output을 만들어야 되겠죠? 우리는 196개의 class를 분류하기 때문에 위와 같이 만들었습니다.\n",
    "\n",
    "참고)  \n",
    "케라스에는 모델을 생성하는 방법이 2가지가 있습니다. 하나는 위처럼 Sequential을 사용하는 것이고 하나는 Model을 사용하는 방법입니다. 2가지 모두 많이 사용하니 Model도 한번 사용해보세요."
   ]
  },
  {
   "cell_type": "markdown",
   "metadata": {},
   "source": [
    "### **Model Compile**\n",
    "이제 Model을 만들었으니 어떻게 학습할 지 정해야 합니다. 어떤 방법으로, 어떤 속도로, 어떤 지표를 기준으로 등등 정할 수 있고 필요시에는 각각의 함수를 직접 구현해볼 수도 있습니다. 하지만, 보통은 기본으로 주어지는 것들을 사용합니다."
   ]
  },
  {
   "cell_type": "code",
   "execution_count": 16,
   "metadata": {},
   "outputs": [],
   "source": [
    "model.compile(optimizer='adam', loss='categorical_crossentropy', metrics=['acc'])"
   ]
  },
  {
   "cell_type": "markdown",
   "metadata": {},
   "source": [
    "### **Model Training**\n",
    "이제 진짜로 학습을 해봅시다. 학습에는 시간이 조금 걸리니 커피라도 한 잔 하시는게 어떨까요?"
   ]
  },
  {
   "cell_type": "code",
   "execution_count": 10,
   "metadata": {},
   "outputs": [],
   "source": [
    "def get_steps(num_samples, batch_size):\n",
    "    if (num_samples % batch_size) > 0 :\n",
    "        return (num_samples // batch_size) + 1\n",
    "    else:\n",
    "        return num_samples // batch_size"
   ]
  },
  {
   "cell_type": "code",
   "execution_count": null,
   "metadata": {},
   "outputs": [
    {
     "name": "stdout",
     "output_type": "stream",
     "text": [
      "Epoch 1/30\n",
      "201/201 [==============================] - 148s 735ms/step - loss: 4.7086 - acc: 0.0522 - val_loss: 6.9977 - val_acc: 0.0230\n",
      "\n",
      "Epoch 00001: val_acc improved from -inf to 0.02295, saving model to resnet50_model_ep01_0.0230_6.9977.h5\n",
      "Epoch 2/30\n",
      "201/201 [==============================] - 131s 652ms/step - loss: 2.6620 - acc: 0.3319 - val_loss: 5.6903 - val_acc: 0.0813\n",
      "\n",
      "Epoch 00002: val_acc improved from 0.02295 to 0.08134, saving model to resnet50_model_ep02_0.0813_5.6903.h5\n",
      "Epoch 3/30\n",
      "201/201 [==============================] - 138s 686ms/step - loss: 1.4235 - acc: 0.6068 - val_loss: 6.2336 - val_acc: 0.0868\n",
      "\n",
      "Epoch 00003: val_acc improved from 0.08134 to 0.08683, saving model to resnet50_model_ep03_0.0868_6.2336.h5\n",
      "Epoch 4/30\n",
      "160/201 [======================>.......] - ETA: 25s - loss: 0.9034 - acc: 0.7397"
     ]
    }
   ],
   "source": [
    "%%time\n",
    "from keras.callbacks import ModelCheckpoint, EarlyStopping\n",
    "\n",
    "# filepath = \"resnet50_model_ep{epoch:02d}_{acc:.4f}_{loss:.4f}.h5\"\n",
    "# ckpt = ModelCheckpoint(filepath, monitor='acc', verbose=1, save_best_only=True)\n",
    "# es = EarlyStopping(monitor='acc', min_delta=0, patience=3, verbose=1, mode='auto')\n",
    "\n",
    "filepath = \"resnet50_model_ep{epoch:02d}_{val_acc:.4f}_{val_loss:.4f}.h5\"\n",
    "ckpt = ModelCheckpoint(filepath, monitor='val_acc', verbose=1, save_best_only=True)\n",
    "es = EarlyStopping(monitor='val_acc', min_delta=0, patience=5, verbose=1, mode='auto')\n",
    "\n",
    "callback_list = [ckpt, es]\n",
    "\n",
    "history = model.fit_generator(\n",
    "    train_generator,\n",
    "    steps_per_epoch=get_steps(nb_train_samples, batch_size),\n",
    "    epochs=epochs,\n",
    "    validation_data=validation_generator,\n",
    "    validation_steps=get_steps(nb_validation_samples, batch_size),\n",
    "    callbacks=callback_list,\n",
    "#     use_multiprocessing=True\n",
    ")\n",
    "gc.collect()"
   ]
  },
  {
   "cell_type": "code",
   "execution_count": 12,
   "metadata": {},
   "outputs": [
    {
     "name": "stdout",
     "output_type": "stream",
     "text": [
      "Found 2004 images belonging to 196 classes.\n",
      "Epoch 1/3\n",
      "63/63 [==============================] - 38s 598ms/step - loss: 1.1305 - acc: 0.6897\n",
      "\n",
      "Epoch 00001: acc improved from -inf to 0.68962, saving model to resnet50_final_ep01_0.6896_1.1301.h5\n",
      "Epoch 2/3\n",
      "63/63 [==============================] - 30s 482ms/step - loss: 0.5235 - acc: 0.8396\n",
      "\n",
      "Epoch 00002: acc improved from 0.68962 to 0.83982, saving model to resnet50_final_ep02_0.8398_0.5226.h5\n",
      "Epoch 3/3\n",
      "63/63 [==============================] - 35s 548ms/step - loss: 0.2814 - acc: 0.9109\n",
      "\n",
      "Epoch 00003: acc improved from 0.83982 to 0.91068, saving model to resnet50_final_ep03_0.9107_0.2822.h5\n"
     ]
    },
    {
     "data": {
      "text/plain": [
       "13"
      ]
     },
     "execution_count": 12,
     "metadata": {},
     "output_type": "execute_result"
    }
   ],
   "source": [
    "from keras.models import load_model\n",
    "from keras.callbacks import ModelCheckpoint, EarlyStopping\n",
    "\n",
    "model = load_model('.\\\\resnet50_model_ep18_0.7315_1.1904.h5')\n",
    "\n",
    "val_datagen = ImageDataGenerator(\n",
    "    rotation_range=30,\n",
    "    width_shift_range=0.1,\n",
    "    height_shift_range=0.1,\n",
    "#    rescale=1./255,\n",
    "    shear_range=0.1,\n",
    "    zoom_range=0.1,\n",
    "    horizontal_flip=True,\n",
    "#    fill_mode='nearest',\n",
    "    preprocessing_function=preprocess_input)\n",
    "\n",
    "validation_generator = val_datagen.flow_from_dataframe(\n",
    "    dataframe=X_val, \n",
    "    directory=TRAIN_IMG_PATH,\n",
    "    x_col='img_file',\n",
    "    y_col='class',\n",
    "    target_size=img_size,\n",
    "    color_mode='rgb',\n",
    "    class_mode='categorical',\n",
    "    batch_size=batch_size,\n",
    "    shuffle=False\n",
    ")\n",
    "\n",
    "filepath = \"resnet50_final_ep{epoch:02d}_{acc:.4f}_{loss:.4f}.h5\"\n",
    "ckpt = ModelCheckpoint(filepath, monitor='acc', verbose=1, save_best_only=True)\n",
    "# es = EarlyStopping(monitor='acc', min_delta=0, patience=5, verbose=1, mode='auto')\n",
    "\n",
    "# callbackList = [ckpt, es]\n",
    "callbackList = [ckpt]\n",
    "\n",
    "history = model.fit_generator(\n",
    "    validation_generator,\n",
    "    steps_per_epoch=get_steps(nb_validation_samples, batch_size),\n",
    "    epochs=3,\n",
    "    callbacks=callbackList\n",
    ")\n",
    "gc.collect()"
   ]
  },
  {
   "cell_type": "markdown",
   "metadata": {},
   "source": [
    "### **Training History Visualization**\n",
    "학습된 결과를 plot으로 그려볼 수 있습니다. 모델 학습 로그를 통해서 확인할 수도 있지만, 전반적인 학습 형태를 한눈에 파악하기에는 그래프만 한 것이 없습니다."
   ]
  },
  {
   "cell_type": "code",
   "execution_count": 18,
   "metadata": {},
   "outputs": [
    {
     "data": {
      "image/png": "[encoded data removed]",
      "text/plain": [
       "<Figure size 432x288 with 1 Axes>"
      ]
     },
     "metadata": {
      "needs_background": "light"
     },
     "output_type": "display_data"
    }
   ],
   "source": [
    "# Plot training & validation accuracy values\n",
    "plt.plot(history.history['acc'])\n",
    "plt.plot(history.history['val_acc'])\n",
    "plt.title('Model accuracy')\n",
    "plt.ylabel('Accuracy')\n",
    "plt.xlabel('Epoch')\n",
    "plt.legend(['Train', 'Val'], loc='upper left')\n",
    "plt.show()"
   ]
  },
  {
   "cell_type": "code",
   "execution_count": 35,
   "metadata": {},
   "outputs": [
    {
     "data": {
      "image/png": "[encoded data removed]",
      "text/plain": [
       "<Figure size 432x288 with 1 Axes>"
      ]
     },
     "metadata": {
      "needs_background": "light"
     },
     "output_type": "display_data"
    }
   ],
   "source": [
    "# Plot training & validation loss values\n",
    "plt.plot(history.history['loss'])\n",
    "plt.plot(history.history['val_loss'])\n",
    "plt.title('Model loss')\n",
    "plt.ylabel('Loss')\n",
    "plt.xlabel('Epoch')\n",
    "plt.legend(['Train', 'Val'], loc='upper left')\n",
    "plt.show()"
   ]
  },
  {
   "cell_type": "markdown",
   "metadata": {},
   "source": [
    "# <a id='5'><strong>Predict & Make submission</strong></a>  \n",
    "겨우 모델 학습이 끝났군요! 하지만, 아직 끝나지 않았습니다. 모델이 테스트 데이터에도 잘 적용되는지 predict를 해보고 제출물을 만들어야 합니다."
   ]
  },
  {
   "cell_type": "markdown",
   "metadata": {},
   "source": [
    "### **Model Predict**"
   ]
  },
  {
   "cell_type": "code",
   "execution_count": 15,
   "metadata": {},
   "outputs": [
    {
     "name": "stdout",
     "output_type": "stream",
     "text": [
      "Found 6169 images.\n",
      "193/193 [==============================] - 52s 271ms/step\n",
      "Wall time: 1min 55s\n"
     ]
    }
   ],
   "source": [
    "%%time\n",
    "from keras.models import load_model\n",
    "\n",
    "test_datagen = ImageDataGenerator(preprocessing_function=preprocess_input)\n",
    "\n",
    "test_generator = test_datagen.flow_from_dataframe(\n",
    "    dataframe=df_test,\n",
    "    directory=TEST_IMG_PATH,\n",
    "    x_col='img_file',\n",
    "    y_col=None,\n",
    "    target_size=img_size,\n",
    "    color_mode='rgb',\n",
    "    class_mode=None,\n",
    "    batch_size=batch_size,\n",
    "    shuffle=False)\n",
    "\n",
    "model = load_model('.\\\\resnet50_final_ep02_0.8398_0.5226.h5')\n",
    "\n",
    "test_generator.reset()\n",
    "\n",
    "prediction = model.predict_generator(\n",
    "    generator = test_generator,\n",
    "    steps = get_steps(nb_test_samples, batch_size),\n",
    "    verbose=1\n",
    ")"
   ]
  },
  {
   "cell_type": "markdown",
   "metadata": {},
   "source": [
    "Predict 또한 제너레이터를 사용합니다. 제너레이터는 메모리가 부족한 우리들에게 꼭 필요한 기능입니다!"
   ]
  },
  {
   "cell_type": "markdown",
   "metadata": {},
   "source": [
    "### **Make submission**"
   ]
  },
  {
   "cell_type": "markdown",
   "metadata": {},
   "source": [
    "Inference가 끝난 결과를 이제 sample_submission 파일에 매핑해야 합니다. sample_submission 파일을 불러온 후 예측한 결과를 매핑합니다.\n",
    "\n",
    "중요)  \n",
    "케라스 제너레이터를 사용하는 경우에는 타겟(클래스)의 카테고리컬 매핑이 제너레이터 임의로 결정됩니다. 따라서 제너레이터가 가지고 있는 class index 딕셔너리를 불러와 새롭게 매핑해주어야 합니다."
   ]
  },
  {
   "cell_type": "code",
   "execution_count": 17,
   "metadata": {},
   "outputs": [
    {
     "data": {
      "text/html": [
       "<div>\n",
       "<style scoped>\n",
       "    .dataframe tbody tr th:only-of-type {\n",
       "        vertical-align: middle;\n",
       "    }\n",
       "\n",
       "    .dataframe tbody tr th {\n",
       "        vertical-align: top;\n",
       "    }\n",
       "\n",
       "    .dataframe thead th {\n",
       "        text-align: right;\n",
       "    }\n",
       "</style>\n",
       "<table border=\"1\" class=\"dataframe\">\n",
       "  <thead>\n",
       "    <tr style=\"text-align: right;\">\n",
       "      <th></th>\n",
       "      <th>img_file</th>\n",
       "      <th>class</th>\n",
       "    </tr>\n",
       "  </thead>\n",
       "  <tbody>\n",
       "    <tr>\n",
       "      <th>0</th>\n",
       "      <td>test_00001.jpg</td>\n",
       "      <td>124</td>\n",
       "    </tr>\n",
       "    <tr>\n",
       "      <th>1</th>\n",
       "      <td>test_00002.jpg</td>\n",
       "      <td>98</td>\n",
       "    </tr>\n",
       "    <tr>\n",
       "      <th>2</th>\n",
       "      <td>test_00003.jpg</td>\n",
       "      <td>157</td>\n",
       "    </tr>\n",
       "    <tr>\n",
       "      <th>3</th>\n",
       "      <td>test_00004.jpg</td>\n",
       "      <td>184</td>\n",
       "    </tr>\n",
       "    <tr>\n",
       "      <th>4</th>\n",
       "      <td>test_00005.jpg</td>\n",
       "      <td>17</td>\n",
       "    </tr>\n",
       "  </tbody>\n",
       "</table>\n",
       "</div>"
      ],
      "text/plain": [
       "         img_file class\n",
       "0  test_00001.jpg   124\n",
       "1  test_00002.jpg    98\n",
       "2  test_00003.jpg   157\n",
       "3  test_00004.jpg   184\n",
       "4  test_00005.jpg    17"
      ]
     },
     "execution_count": 17,
     "metadata": {},
     "output_type": "execute_result"
    }
   ],
   "source": [
    "predicted_class_indices=np.argmax(prediction, axis=1)\n",
    "\n",
    "# Generator class dictionary mapping\n",
    "labels = (train_generator.class_indices)\n",
    "labels = dict((v,k) for k,v in labels.items())\n",
    "predictions = [labels[k] for k in predicted_class_indices]\n",
    "\n",
    "submission = pd.read_csv(os.path.join(DATA_PATH, 'sample_submission.csv'))\n",
    "submission[\"class\"] = predictions\n",
    "submission.to_csv(\"submission.csv\", index=False)\n",
    "submission.head()"
   ]
  },
  {
   "cell_type": "markdown",
   "metadata": {},
   "source": [
    "드디어 완료 되었습니다. 하지만, 여기서 끝이 아니죠!   \n",
    "첫 제출을 성공하셨다면 이제는 모델 성능을 어떻게하면 더 올릴 수 있을지 연구할 때입니다.   \n",
    "끝나는 시간까지 계속 킵고잉해서 좋은 성능을 낼 때까지 달립시다. 모두 화이팅!"
   ]
  },
  {
   "cell_type": "markdown",
   "metadata": {},
   "source": [
    "#### **Reference:**\n",
    "https://medium.com/@vijayabhaskar96/tutorial-on-keras-flow-from-dataframe-1fd4493d237c  \n",
    "https://keras.io/  \n",
    "http://www.arxiv.org/abs/1512.03385  \n",
    "https://pillow.readthedocs.io/en/stable/  \n",
    "https://www.kaggle.com/guglielmocamporese/macro-f1-score-keras"
   ]
  }
 ],
 "metadata": {
  "kernelspec": {
   "display_name": "Python 3",
   "language": "python",
   "name": "python3"
  },
  "language_info": {
   "codemirror_mode": {
    "name": "ipython",
    "version": 3
   },
   "file_extension": ".py",
   "mimetype": "text/x-python",
   "name": "python",
   "nbconvert_exporter": "python",
   "pygments_lexer": "ipython3",
   "version": "3.6.8"
  }
 },
 "nbformat": 4,
 "nbformat_minor": 2
}
