{
 "cells": [
  {
   "cell_type": "code",
   "execution_count": 1,
   "metadata": {},
   "outputs": [
    {
     "name": "stderr",
     "output_type": "stream",
     "text": [
      "Using TensorFlow backend.\n"
     ]
    },
    {
     "data": {
      "text/plain": [
       "'channels_last'"
      ]
     },
     "execution_count": 1,
     "metadata": {},
     "output_type": "execute_result"
    }
   ],
   "source": [
    "import gc\n",
    "import os\n",
    "import warnings\n",
    "import numpy as np \n",
    "import pandas as pd\n",
    "import seaborn as sns\n",
    "import matplotlib.pyplot as plt\n",
    "from tqdm import tqdm\n",
    "\n",
    "from keras import backend as K\n",
    "warnings.filterwarnings(action='ignore')\n",
    "\n",
    "K.image_data_format()"
   ]
  },
  {
   "cell_type": "code",
   "execution_count": 2,
   "metadata": {},
   "outputs": [
    {
     "data": {
      "text/plain": [
       "['class.csv',\n",
       " 'cropped_test',\n",
       " 'cropped_train',\n",
       " 'sample_submission.csv',\n",
       " 'test',\n",
       " 'test.csv',\n",
       " 'train',\n",
       " 'train.csv']"
      ]
     },
     "execution_count": 2,
     "metadata": {},
     "output_type": "execute_result"
    }
   ],
   "source": [
    "# 혹 다른 데이터 셋 추가(Pretrained Model Weights)로 인해 PATH가 변경된다면 아래 PATH를 수정\n",
    "DATA_PATH = 'data'\n",
    "os.listdir(DATA_PATH)"
   ]
  },
  {
   "cell_type": "code",
   "execution_count": 3,
   "metadata": {},
   "outputs": [],
   "source": [
    "# 이미지 폴더 경로\n",
    "TRAIN_IMG_PATH = os.path.join(DATA_PATH, 'cropped_train')\n",
    "TEST_IMG_PATH = os.path.join(DATA_PATH, 'cropped_test')\n",
    "\n",
    "# CSV 파일 경로\n",
    "df_train = pd.read_csv(os.path.join(DATA_PATH, 'train.csv'))\n",
    "df_test = pd.read_csv(os.path.join(DATA_PATH, 'test.csv'))\n",
    "df_class = pd.read_csv(os.path.join(DATA_PATH, 'class.csv'))"
   ]
  },
  {
   "cell_type": "code",
   "execution_count": 4,
   "metadata": {},
   "outputs": [
    {
     "name": "stdout",
     "output_type": "stream",
     "text": [
      "[4766 4851  533 ... 5390  860 7270]\n",
      "[1617 9936 2168 ... 1642 9177 4210]\n",
      "\n",
      "(8012, 2)\n",
      "(2004, 2)\n",
      "(6169, 1)\n"
     ]
    }
   ],
   "source": [
    "from sklearn.model_selection import train_test_split\n",
    "\n",
    "df_train[\"class\"] = df_train[\"class\"].astype('str')\n",
    "\n",
    "df_train = df_train[['img_file', 'class']]\n",
    "df_test = df_test[['img_file']]\n",
    "\n",
    "its = np.arange(df_train.shape[0])\n",
    "train_idx, val_idx = train_test_split(its, train_size=0.8, random_state=42)\n",
    "\n",
    "X_train = df_train.iloc[train_idx, :]\n",
    "X_val = df_train.iloc[val_idx, :]\n",
    "\n",
    "print(train_idx)\n",
    "print(val_idx)\n",
    "print()\n",
    "print(X_train.shape)\n",
    "print(X_val.shape)\n",
    "print(df_test.shape)"
   ]
  },
  {
   "cell_type": "code",
   "execution_count": 5,
   "metadata": {},
   "outputs": [],
   "source": [
    "# import cv2\n",
    "\n",
    "# def color_change(image):\n",
    "# #     print(type(image))\n",
    "# #     image = cv2.imread(image, cv2.IMREAD_COLOR)\n",
    "#     b, g, r = cv2.split(image)\n",
    "#     rgb_set = ([r, g, b], [r, b, g], [g, r, b], [g, b, r], [b, r, g], [b, g, r])\n",
    "#     converted_img = cv2.merge(rgb_set[np.random.randint(6)])\n",
    "#     return converted_img"
   ]
  },
  {
   "cell_type": "code",
   "execution_count": 6,
   "metadata": {},
   "outputs": [],
   "source": [
    "params = {\n",
    "    # Generator Parameter\n",
    "    'rotation_range': 18,\n",
    "#     'rescale': 1./255,\n",
    "    'width_shift_range': 0.18,\n",
    "    'height_shift_range': 0.18,\n",
    "    'shear_range': 0.18,\n",
    "    'zoom_range': 0.18,\n",
    "    'horizontal_flip': True,\n",
    "    'brightness_range': (0.7, 1.5),\n",
    "    # Model Parameter\n",
    "    'img_size': (224, 224),\n",
    "    'input_shape': (224, 224, 3),\n",
    "    'nb_train_samples': len(X_train),\n",
    "    'nb_validation_samples': len(X_val),\n",
    "    'nb_test_samples': len(df_test),\n",
    "    'train_epochs': 50,\n",
    "    'val_epochs': 10,\n",
    "    'batch_size': 40\n",
    "}"
   ]
  },
  {
   "cell_type": "code",
   "execution_count": 7,
   "metadata": {},
   "outputs": [
    {
     "name": "stdout",
     "output_type": "stream",
     "text": [
      "Found 8012 images belonging to 196 classes.\n",
      "Found 2004 images belonging to 196 classes.\n"
     ]
    }
   ],
   "source": [
    "# from keras.applications.inception_resnet_v2 import InceptionResNetV2, preprocess_input\n",
    "from keras.applications.resnet50 import ResNet50, preprocess_input\n",
    "from keras.preprocessing.image import ImageDataGenerator\n",
    "\n",
    "# Define Generator config\n",
    "train_datagen = ImageDataGenerator(\n",
    "    rotation_range=params['rotation_range'],\n",
    "#     rescale=params['rescale'],\n",
    "    width_shift_range=params['width_shift_range'],\n",
    "    height_shift_range=params['height_shift_range'],\n",
    "    shear_range=params['shear_range'],\n",
    "    zoom_range=params['zoom_range'],\n",
    "    horizontal_flip=params['horizontal_flip'],\n",
    "    brightness_range=params['brightness_range'],\n",
    "    preprocessing_function=preprocess_input)\n",
    "\n",
    "val_datagen = ImageDataGenerator(preprocessing_function=preprocess_input)\n",
    "\n",
    "# Make Generator\n",
    "train_generator = train_datagen.flow_from_dataframe(\n",
    "    dataframe=X_train, \n",
    "    directory=TRAIN_IMG_PATH,\n",
    "    x_col='img_file',\n",
    "    y_col='class',\n",
    "    target_size=params['img_size'],\n",
    "    color_mode='rgb',\n",
    "    class_mode='categorical',\n",
    "    batch_size=params['batch_size'],\n",
    "    seed=42\n",
    ")\n",
    "\n",
    "validation_generator = val_datagen.flow_from_dataframe(\n",
    "    dataframe=X_val, \n",
    "    directory=TRAIN_IMG_PATH,\n",
    "    x_col='img_file',\n",
    "    y_col='class',\n",
    "    target_size=params['img_size'],\n",
    "    color_mode='rgb',\n",
    "    class_mode='categorical',\n",
    "    batch_size=params['batch_size'],\n",
    "    shuffle=False\n",
    ")"
   ]
  },
  {
   "cell_type": "code",
   "execution_count": 9,
   "metadata": {},
   "outputs": [],
   "source": [
    "def get_steps(num_samples, batch_size):\n",
    "    if (num_samples % batch_size) > 0 :\n",
    "        return (num_samples // batch_size) + 1\n",
    "    else:\n",
    "        return num_samples // batch_size"
   ]
  },
  {
   "cell_type": "code",
   "execution_count": 8,
   "metadata": {},
   "outputs": [
    {
     "name": "stdout",
     "output_type": "stream",
     "text": [
      "WARNING:tensorflow:From C:\\Users\\mybirth0407\\AppData\\Local\\Continuum\\anaconda3\\lib\\site-packages\\tensorflow\\python\\framework\\op_def_library.py:263: colocate_with (from tensorflow.python.framework.ops) is deprecated and will be removed in a future version.\n",
      "Instructions for updating:\n",
      "Colocations handled automatically by placer.\n"
     ]
    }
   ],
   "source": [
    "cnn_model = ResNet50(include_top=False, input_shape=params['input_shape'])\n",
    "# cnn_model.summary()"
   ]
  },
  {
   "cell_type": "code",
   "execution_count": 9,
   "metadata": {},
   "outputs": [
    {
     "name": "stdout",
     "output_type": "stream",
     "text": [
      "_________________________________________________________________\n",
      "Layer (type)                 Output Shape              Param #   \n",
      "=================================================================\n",
      "resnet50 (Model)             (None, 7, 7, 2048)        23587712  \n",
      "_________________________________________________________________\n",
      "global_average_pooling2d_1 ( (None, 2048)              0         \n",
      "_________________________________________________________________\n",
      "dense_1 (Dense)              (None, 196)               401604    \n",
      "=================================================================\n",
      "Total params: 23,989,316\n",
      "Trainable params: 23,936,196\n",
      "Non-trainable params: 53,120\n",
      "_________________________________________________________________\n"
     ]
    }
   ],
   "source": [
    "from keras.models import Sequential, Model\n",
    "from keras.layers import Dense, Dropout, Flatten, Activation, Conv2D, GlobalAveragePooling2D\n",
    "\n",
    "# for layer in cnn_model.layers:\n",
    "#     layer.trainable = False\n",
    "#     print(layer,layer.trainable)\n",
    "\n",
    "model = Sequential()\n",
    "model.add(cnn_model)\n",
    "model.add(GlobalAveragePooling2D())\n",
    "model.add(Dense(196, activation='softmax', kernel_initializer='he_normal'))\n",
    "model.summary()"
   ]
  },
  {
   "cell_type": "code",
   "execution_count": 10,
   "metadata": {},
   "outputs": [],
   "source": [
    "model.compile(optimizer='adam', loss='categorical_crossentropy', metrics=['acc'])"
   ]
  },
  {
   "cell_type": "code",
   "execution_count": 12,
   "metadata": {},
   "outputs": [
    {
     "name": "stdout",
     "output_type": "stream",
     "text": [
      "WARNING:tensorflow:From C:\\Users\\mybirth0407\\AppData\\Local\\Continuum\\anaconda3\\lib\\site-packages\\tensorflow\\python\\ops\\math_ops.py:3066: to_int32 (from tensorflow.python.ops.math_ops) is deprecated and will be removed in a future version.\n",
      "Instructions for updating:\n",
      "Use tf.cast instead.\n",
      "Epoch 1/30\n",
      "201/201 [==============================] - 216s 1s/step - loss: 5.3075 - acc: 0.0142 - val_loss: 5.3485 - val_acc: 0.0100\n",
      "\n",
      "Epoch 00001: val_acc improved from -inf to 0.00998, saving model to resnet50_18_rot_ep01_vloss-5.3485_vacc-0.0100.h5\n",
      "Epoch 2/30\n",
      "201/201 [==============================] - 169s 840ms/step - loss: 4.9853 - acc: 0.0287 - val_loss: 14.0148 - val_acc: 0.0065\n",
      "\n",
      "Epoch 00002: val_acc did not improve from 0.00998\n",
      "Epoch 3/30\n",
      "201/201 [==============================] - 168s 837ms/step - loss: 4.5315 - acc: 0.0563 - val_loss: 8.2259 - val_acc: 0.0284\n",
      "\n",
      "Epoch 00003: val_acc improved from 0.00998 to 0.02844, saving model to resnet50_18_rot_ep03_vloss-8.2259_vacc-0.0284.h5\n",
      "Epoch 4/30\n",
      "201/201 [==============================] - 172s 855ms/step - loss: 4.0592 - acc: 0.0992 - val_loss: 5.4829 - val_acc: 0.0639\n",
      "\n",
      "Epoch 00004: val_acc improved from 0.02844 to 0.06387, saving model to resnet50_18_rot_ep04_vloss-5.4829_vacc-0.0639.h5\n",
      "Epoch 5/30\n",
      "201/201 [==============================] - 169s 839ms/step - loss: 3.5075 - acc: 0.1709 - val_loss: 6.0016 - val_acc: 0.0654\n",
      "\n",
      "Epoch 00005: val_acc improved from 0.06387 to 0.06537, saving model to resnet50_18_rot_ep05_vloss-6.0016_vacc-0.0654.h5\n",
      "Epoch 6/30\n",
      "201/201 [==============================] - 165s 822ms/step - loss: 2.8763 - acc: 0.2813 - val_loss: 3.3710 - val_acc: 0.2385\n",
      "\n",
      "Epoch 00006: val_acc improved from 0.06537 to 0.23852, saving model to resnet50_18_rot_ep06_vloss-3.3710_vacc-0.2385.h5\n",
      "Epoch 7/30\n",
      "201/201 [==============================] - 169s 839ms/step - loss: 2.2643 - acc: 0.4045 - val_loss: 3.1067 - val_acc: 0.2869\n",
      "\n",
      "Epoch 00007: val_acc improved from 0.23852 to 0.28693, saving model to resnet50_18_rot_ep07_vloss-3.1067_vacc-0.2869.h5\n",
      "Epoch 8/30\n",
      "201/201 [==============================] - 173s 858ms/step - loss: 1.7932 - acc: 0.5161 - val_loss: 2.6557 - val_acc: 0.3797\n",
      "\n",
      "Epoch 00008: val_acc improved from 0.28693 to 0.37974, saving model to resnet50_18_rot_ep08_vloss-2.6557_vacc-0.3797.h5\n",
      "Epoch 9/30\n",
      "201/201 [==============================] - 172s 854ms/step - loss: 1.4619 - acc: 0.5989 - val_loss: 2.2263 - val_acc: 0.4601\n",
      "\n",
      "Epoch 00009: val_acc improved from 0.37974 to 0.46008, saving model to resnet50_18_rot_ep09_vloss-2.2263_vacc-0.4601.h5\n",
      "Epoch 10/30\n",
      "201/201 [==============================] - 173s 859ms/step - loss: 1.1792 - acc: 0.6683 - val_loss: 1.8292 - val_acc: 0.5299\n",
      "\n",
      "Epoch 00010: val_acc improved from 0.46008 to 0.52994, saving model to resnet50_18_rot_ep10_vloss-1.8292_vacc-0.5299.h5\n",
      "Epoch 11/30\n",
      "201/201 [==============================] - 167s 831ms/step - loss: 0.9776 - acc: 0.7213 - val_loss: 1.4088 - val_acc: 0.6252\n",
      "\n",
      "Epoch 00011: val_acc improved from 0.52994 to 0.62525, saving model to resnet50_18_rot_ep11_vloss-1.4088_vacc-0.6252.h5\n",
      "Epoch 12/30\n",
      "201/201 [==============================] - 166s 824ms/step - loss: 0.8103 - acc: 0.7648 - val_loss: 1.5390 - val_acc: 0.6068\n",
      "\n",
      "Epoch 00012: val_acc did not improve from 0.62525\n",
      "Epoch 13/30\n",
      "201/201 [==============================] - 166s 828ms/step - loss: 0.6820 - acc: 0.8038 - val_loss: 1.0897 - val_acc: 0.6941\n",
      "\n",
      "Epoch 00013: val_acc improved from 0.62525 to 0.69411, saving model to resnet50_18_rot_ep13_vloss-1.0897_vacc-0.6941.h5\n",
      "Epoch 14/30\n",
      "201/201 [==============================] - 165s 821ms/step - loss: 0.5714 - acc: 0.8298 - val_loss: 1.4832 - val_acc: 0.6367\n",
      "\n",
      "Epoch 00014: val_acc did not improve from 0.69411\n",
      "Epoch 15/30\n",
      "201/201 [==============================] - 165s 822ms/step - loss: 0.4920 - acc: 0.8494 - val_loss: 1.3374 - val_acc: 0.6537\n",
      "\n",
      "Epoch 00015: val_acc did not improve from 0.69411\n",
      "Epoch 16/30\n",
      "201/201 [==============================] - 165s 822ms/step - loss: 0.4363 - acc: 0.8709 - val_loss: 1.1096 - val_acc: 0.7191\n",
      "\n",
      "Epoch 00016: val_acc improved from 0.69411 to 0.71906, saving model to resnet50_18_rot_ep16_vloss-1.1096_vacc-0.7191.h5\n",
      "Epoch 17/30\n",
      "201/201 [==============================] - 166s 826ms/step - loss: 0.3980 - acc: 0.8727 - val_loss: 1.2827 - val_acc: 0.6707\n",
      "\n",
      "Epoch 00017: val_acc did not improve from 0.71906\n",
      "Epoch 18/30\n",
      "201/201 [==============================] - 166s 828ms/step - loss: 0.3498 - acc: 0.8885 - val_loss: 1.3810 - val_acc: 0.6732\n",
      "\n",
      "Epoch 00018: val_acc did not improve from 0.71906\n",
      "Epoch 19/30\n",
      "201/201 [==============================] - 173s 861ms/step - loss: 0.3303 - acc: 0.8960 - val_loss: 1.1644 - val_acc: 0.7211\n",
      "\n",
      "Epoch 00019: val_acc improved from 0.71906 to 0.72106, saving model to resnet50_18_rot_ep19_vloss-1.1644_vacc-0.7211.h5\n",
      "Epoch 20/30\n",
      "201/201 [==============================] - 166s 826ms/step - loss: 0.2949 - acc: 0.9057 - val_loss: 1.1508 - val_acc: 0.7265\n",
      "\n",
      "Epoch 00020: val_acc improved from 0.72106 to 0.72655, saving model to resnet50_18_rot_ep20_vloss-1.1508_vacc-0.7265.h5\n",
      "Epoch 21/30\n",
      "201/201 [==============================] - 166s 828ms/step - loss: 0.2721 - acc: 0.9146 - val_loss: 1.5897 - val_acc: 0.6422\n",
      "\n",
      "Epoch 00021: val_acc did not improve from 0.72655\n",
      "Epoch 22/30\n",
      "201/201 [==============================] - 170s 846ms/step - loss: 0.2495 - acc: 0.9239 - val_loss: 0.9235 - val_acc: 0.7750\n",
      "\n",
      "Epoch 00022: val_acc improved from 0.72655 to 0.77495, saving model to resnet50_18_rot_ep22_vloss-0.9235_vacc-0.7750.h5\n",
      "Epoch 23/30\n",
      "201/201 [==============================] - 170s 845ms/step - loss: 0.2578 - acc: 0.9167 - val_loss: 0.9515 - val_acc: 0.7650\n",
      "\n",
      "Epoch 00023: val_acc did not improve from 0.77495\n",
      "Epoch 24/30\n",
      "201/201 [==============================] - 169s 838ms/step - loss: 0.2092 - acc: 0.9351 - val_loss: 1.0213 - val_acc: 0.7430\n",
      "\n",
      "Epoch 00024: val_acc did not improve from 0.77495\n",
      "Epoch 25/30\n",
      "201/201 [==============================] - 172s 855ms/step - loss: 0.1997 - acc: 0.9363 - val_loss: 1.1385 - val_acc: 0.7385\n",
      "\n",
      "Epoch 00025: val_acc did not improve from 0.77495\n",
      "Epoch 26/30\n",
      "201/201 [==============================] - 175s 871ms/step - loss: 0.1967 - acc: 0.9381 - val_loss: 1.1963 - val_acc: 0.7325\n",
      "\n",
      "Epoch 00026: val_acc did not improve from 0.77495\n",
      "Epoch 27/30\n",
      "201/201 [==============================] - 174s 865ms/step - loss: 0.1775 - acc: 0.9462 - val_loss: 0.8344 - val_acc: 0.7924\n",
      "\n",
      "Epoch 00027: val_acc improved from 0.77495 to 0.79242, saving model to resnet50_18_rot_ep27_vloss-0.8344_vacc-0.7924.h5\n",
      "Epoch 28/30\n",
      "201/201 [==============================] - 176s 875ms/step - loss: 0.1685 - acc: 0.9493 - val_loss: 0.9444 - val_acc: 0.7764\n",
      "\n",
      "Epoch 00028: val_acc did not improve from 0.79242\n",
      "Epoch 29/30\n",
      "201/201 [==============================] - 176s 875ms/step - loss: 0.1499 - acc: 0.9529 - val_loss: 1.2447 - val_acc: 0.7415\n",
      "\n",
      "Epoch 00029: val_acc did not improve from 0.79242\n",
      "Epoch 30/30\n",
      "201/201 [==============================] - 175s 871ms/step - loss: 0.1633 - acc: 0.9503 - val_loss: 1.1217 - val_acc: 0.7340\n",
      "\n",
      "Epoch 00030: val_acc did not improve from 0.79242\n",
      "Wall time: 1h 25min 54s\n"
     ]
    }
   ],
   "source": [
    "%%time\n",
    "from keras.callbacks import ModelCheckpoint, EarlyStopping\n",
    "\n",
    "filepath = 'resnet50_18_rot_ep{epoch:02d}_vloss-{val_loss:.4f}_vacc-{val_acc:.4f}.h5'\n",
    "\n",
    "ckpt = ModelCheckpoint(filepath, monitor='val_acc', verbose=1, save_best_only=True)\n",
    "# es = EarlyStopping(monitor='val_acc', min_delta=0, patience=5, verbose=1, mode='auto')\n",
    "\n",
    "# callback_list = [ckpt, es]\n",
    "callback_list = [ckpt]\n",
    "\n",
    "print(params)\n",
    "\n",
    "history = model.fit_generator(\n",
    "    train_generator,\n",
    "    steps_per_epoch=get_steps(params['nb_train_samples'], params['batch_size']),\n",
    "    epochs=params['train_epochs'],\n",
    "    validation_data=validation_generator,\n",
    "    validation_steps=get_steps(params['nb_validation_samples'], params['batch_size']),\n",
    "    callbacks=callback_list\n",
    ")\n",
    "gc.collect()"
   ]
  },
  {
   "cell_type": "code",
   "execution_count": 17,
   "metadata": {},
   "outputs": [
    {
     "data": {
      "image/png": "[encoded data removed]",
      "text/plain": [
       "<Figure size 432x288 with 1 Axes>"
      ]
     },
     "metadata": {
      "needs_background": "light"
     },
     "output_type": "display_data"
    }
   ],
   "source": [
    "# Plot training & validation accuracy values\n",
    "plt.plot(history.history['acc'])\n",
    "plt.plot(history.history['val_acc'])\n",
    "plt.title('Model accuracy')\n",
    "plt.ylabel('Accuracy')\n",
    "plt.xlabel('Epoch')\n",
    "plt.legend(['Train', 'Val'], loc='upper left')\n",
    "plt.show()"
   ]
  },
  {
   "cell_type": "code",
   "execution_count": 18,
   "metadata": {},
   "outputs": [
    {
     "data": {
      "image/png": "[encoded data removed]",
      "text/plain": [
       "<Figure size 432x288 with 1 Axes>"
      ]
     },
     "metadata": {
      "needs_background": "light"
     },
     "output_type": "display_data"
    }
   ],
   "source": [
    "# Plot training & validation loss values\n",
    "plt.plot(history.history['loss'])\n",
    "plt.plot(history.history['val_loss'])\n",
    "plt.title('Model loss')\n",
    "plt.ylabel('Loss')\n",
    "plt.xlabel('Epoch')\n",
    "plt.legend(['Train', 'Val'], loc='upper left')\n",
    "plt.show()"
   ]
  },
  {
   "cell_type": "code",
   "execution_count": 10,
   "metadata": {},
   "outputs": [
    {
     "name": "stdout",
     "output_type": "stream",
     "text": [
      "Found 2004 images belonging to 196 classes.\n",
      "Epoch 1/10\n",
      "51/51 [==============================] - 44s 872ms/step - loss: 0.9990 - acc: 0.7416\n",
      "\n",
      "Epoch 00001: acc improved from -inf to 0.73703, saving model to resnet50_18_rot_in_val_ep01_loss-1.0087_acc-0.7370.h5\n",
      "Epoch 2/10\n",
      "51/51 [==============================] - 39s 761ms/step - loss: 0.6067 - acc: 0.8207\n",
      "\n",
      "Epoch 00002: acc improved from 0.73703 to 0.82635, saving model to resnet50_18_rot_in_val_ep02_loss-0.5784_acc-0.8263.h5\n",
      "Epoch 3/10\n",
      "51/51 [==============================] - 42s 829ms/step - loss: 0.4783 - acc: 0.8589\n",
      "\n",
      "Epoch 00003: acc improved from 0.82635 to 0.86078, saving model to resnet50_18_rot_in_val_ep03_loss-0.4741_acc-0.8608.h5\n",
      "Epoch 4/10\n",
      "51/51 [==============================] - 41s 810ms/step - loss: 0.3614 - acc: 0.8970\n",
      "\n",
      "Epoch 00004: acc improved from 0.86078 to 0.89521, saving model to resnet50_18_rot_in_val_ep04_loss-0.3633_acc-0.8952.h5\n",
      "Epoch 5/10\n",
      "51/51 [==============================] - 43s 842ms/step - loss: 0.2385 - acc: 0.9220\n",
      "\n",
      "Epoch 00005: acc improved from 0.89521 to 0.92066, saving model to resnet50_18_rot_in_val_ep05_loss-0.2411_acc-0.9207.h5\n",
      "Epoch 6/10\n",
      "51/51 [==============================] - 41s 809ms/step - loss: 0.2172 - acc: 0.9315\n",
      "\n",
      "Epoch 00006: acc improved from 0.92066 to 0.93912, saving model to resnet50_18_rot_in_val_ep06_loss-0.1917_acc-0.9391.h5\n",
      "Epoch 7/10\n",
      "51/51 [==============================] - 42s 831ms/step - loss: 0.2485 - acc: 0.9353\n",
      "\n",
      "Epoch 00007: acc did not improve from 0.93912\n",
      "Epoch 8/10\n",
      "51/51 [==============================] - 42s 823ms/step - loss: 0.1487 - acc: 0.9613\n",
      "\n",
      "Epoch 00008: acc improved from 0.93912 to 0.96507, saving model to resnet50_18_rot_in_val_ep08_loss-0.1313_acc-0.9651.h5\n",
      "Epoch 9/10\n",
      "51/51 [==============================] - 41s 813ms/step - loss: 0.2120 - acc: 0.9476\n",
      "\n",
      "Epoch 00009: acc did not improve from 0.96507\n",
      "Epoch 10/10\n",
      "51/51 [==============================] - 41s 807ms/step - loss: 0.2417 - acc: 0.9392\n",
      "\n",
      "Epoch 00010: acc did not improve from 0.96507\n"
     ]
    },
    {
     "data": {
      "text/plain": [
       "100"
      ]
     },
     "execution_count": 10,
     "metadata": {},
     "output_type": "execute_result"
    }
   ],
   "source": [
    "from keras.models import load_model\n",
    "from keras.callbacks import ModelCheckpoint, EarlyStopping\n",
    "from keras.preprocessing.image import ImageDataGenerator\n",
    "from keras.applications.resnet50 import preprocess_input\n",
    "\n",
    "model = load_model('resnet50_18_rot_ep27_vloss-0.8344_vacc-0.7924.h5')\n",
    "\n",
    "# Define Generator config\n",
    "val_datagen2 = ImageDataGenerator(\n",
    "    rotation_range=params['rotation_range'],\n",
    "#     rescale=params['rescale'],\n",
    "    width_shift_range=params['width_shift_range'],\n",
    "    height_shift_range=params['height_shift_range'],\n",
    "    shear_range=params['shear_range'],\n",
    "    zoom_range=params['zoom_range'],\n",
    "    horizontal_flip=params['horizontal_flip'],\n",
    "    brightness_range=params['brightness_range'],\n",
    "    preprocessing_function=preprocess_input)\n",
    "\n",
    "validation_generator2 = val_datagen2.flow_from_dataframe(\n",
    "    dataframe=X_val, \n",
    "    directory=TRAIN_IMG_PATH,\n",
    "    x_col='img_file',\n",
    "    y_col='class',\n",
    "    target_size=params['img_size'],\n",
    "    color_mode='rgb',\n",
    "    class_mode='categorical',\n",
    "    batch_size=params['batch_size'],\n",
    "    seed=42\n",
    ")\n",
    "\n",
    "filepath = \"resnet50_18_rot_in_val_ep{epoch:02d}_loss-{loss:.4f}_acc-{acc:.4f}.h5\"\n",
    "ckpt = ModelCheckpoint(filepath, monitor='acc', verbose=1, save_best_only=True)\n",
    "# es = EarlyStopping(monitor='acc', min_delta=0, patience=3, verbose=1, mode='auto')\n",
    "\n",
    "# callback_list = [ckpt, es]\n",
    "callback_list = [ckpt]\n",
    "\n",
    "history = model.fit_generator(\n",
    "    validation_generator2,\n",
    "    steps_per_epoch=get_steps(params['nb_validation_samples'], params['batch_size']),\n",
    "    epochs=params['val_epochs'],\n",
    "    callbacks=callback_list\n",
    ")\n",
    "gc.collect()"
   ]
  },
  {
   "cell_type": "code",
   "execution_count": 13,
   "metadata": {},
   "outputs": [
    {
     "name": "stdout",
     "output_type": "stream",
     "text": [
      "Found 6169 images.\n",
      "155/155 [==============================] - 45s 293ms/step\n",
      "Wall time: 1min 47s\n"
     ]
    }
   ],
   "source": [
    "%%time\n",
    "from keras.models import load_model\n",
    "\n",
    "nb_test_samples = len(df_test)\n",
    "\n",
    "test_datagen = ImageDataGenerator(preprocessing_function=preprocess_input)\n",
    "\n",
    "test_generator = test_datagen.flow_from_dataframe(\n",
    "    dataframe=df_test,\n",
    "    directory=TEST_IMG_PATH,\n",
    "    x_col='img_file',\n",
    "    y_col=None,\n",
    "    target_size=params['img_size'],\n",
    "    color_mode='rgb',\n",
    "    class_mode=None,\n",
    "    batch_size=params['batch_size'],\n",
    "    shuffle=False)\n",
    "\n",
    "model = load_model('resnet50_18_rot_in_val_ep06_loss-0.1917_acc-0.9391.h5')\n",
    "\n",
    "prediction = model.predict_generator(\n",
    "    generator = test_generator,\n",
    "    steps = get_steps(params['nb_test_samples'], params['batch_size']),\n",
    "    verbose=1\n",
    ")"
   ]
  },
  {
   "cell_type": "code",
   "execution_count": 14,
   "metadata": {},
   "outputs": [
    {
     "data": {
      "text/html": [
       "<div>\n",
       "<style scoped>\n",
       "    .dataframe tbody tr th:only-of-type {\n",
       "        vertical-align: middle;\n",
       "    }\n",
       "\n",
       "    .dataframe tbody tr th {\n",
       "        vertical-align: top;\n",
       "    }\n",
       "\n",
       "    .dataframe thead th {\n",
       "        text-align: right;\n",
       "    }\n",
       "</style>\n",
       "<table border=\"1\" class=\"dataframe\">\n",
       "  <thead>\n",
       "    <tr style=\"text-align: right;\">\n",
       "      <th></th>\n",
       "      <th>img_file</th>\n",
       "      <th>class</th>\n",
       "    </tr>\n",
       "  </thead>\n",
       "  <tbody>\n",
       "    <tr>\n",
       "      <th>0</th>\n",
       "      <td>test_00001.jpg</td>\n",
       "      <td>124</td>\n",
       "    </tr>\n",
       "    <tr>\n",
       "      <th>1</th>\n",
       "      <td>test_00002.jpg</td>\n",
       "      <td>98</td>\n",
       "    </tr>\n",
       "    <tr>\n",
       "      <th>2</th>\n",
       "      <td>test_00003.jpg</td>\n",
       "      <td>157</td>\n",
       "    </tr>\n",
       "    <tr>\n",
       "      <th>3</th>\n",
       "      <td>test_00004.jpg</td>\n",
       "      <td>94</td>\n",
       "    </tr>\n",
       "    <tr>\n",
       "      <th>4</th>\n",
       "      <td>test_00005.jpg</td>\n",
       "      <td>18</td>\n",
       "    </tr>\n",
       "  </tbody>\n",
       "</table>\n",
       "</div>"
      ],
      "text/plain": [
       "         img_file class\n",
       "0  test_00001.jpg   124\n",
       "1  test_00002.jpg    98\n",
       "2  test_00003.jpg   157\n",
       "3  test_00004.jpg    94\n",
       "4  test_00005.jpg    18"
      ]
     },
     "execution_count": 14,
     "metadata": {},
     "output_type": "execute_result"
    }
   ],
   "source": [
    "predicted_class_indices=np.argmax(prediction, axis=1)\n",
    "\n",
    "# Generator class dictionary mapping\n",
    "labels = (train_generator.class_indices)\n",
    "labels = dict((v, k) for k,v in labels.items())\n",
    "predictions = [labels[k] for k in predicted_class_indices]\n",
    "\n",
    "submission = pd.read_csv(os.path.join(DATA_PATH, 'sample_submission.csv'))\n",
    "submission[\"class\"] = predictions\n",
    "submission.to_csv(\"submission.csv\", index=False)\n",
    "submission.head()"
   ]
  },
  {
   "cell_type": "markdown",
   "metadata": {},
   "source": [
    "#### **Reference:**\n",
    "https://medium.com/@vijayabhaskar96/tutorial-on-keras-flow-from-dataframe-1fd4493d237c  \n",
    "https://keras.io/  \n",
    "http://www.arxiv.org/abs/1512.03385  \n",
    "https://pillow.readthedocs.io/en/stable/  \n",
    "https://www.kaggle.com/guglielmocamporese/macro-f1-score-keras"
   ]
  }
 ],
 "metadata": {
  "kernelspec": {
   "display_name": "Python 3",
   "language": "python",
   "name": "python3"
  },
  "language_info": {
   "codemirror_mode": {
    "name": "ipython",
    "version": 3
   },
   "file_extension": ".py",
   "mimetype": "text/x-python",
   "name": "python",
   "nbconvert_exporter": "python",
   "pygments_lexer": "ipython3",
   "version": "3.6.8"
  }
 },
 "nbformat": 4,
 "nbformat_minor": 2
}
