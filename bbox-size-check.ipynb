{
 "cells": [
  {
   "cell_type": "code",
   "execution_count": 1,
   "metadata": {},
   "outputs": [],
   "source": [
    "import os\n",
    "import warnings\n",
    "import numpy as np \n",
    "import pandas as pd"
   ]
  },
  {
   "cell_type": "code",
   "execution_count": 2,
   "metadata": {},
   "outputs": [],
   "source": [
    "# 혹 다른 데이터 셋 추가(Pretrained Model Weights)로 인해 PATH가 변경된다면 아래 PATH를 수정\n",
    "DATA_PATH = './data/'\n",
    "os.listdir(DATA_PATH)\n",
    "\n",
    "# 이미지 폴더 경로\n",
    "TRAIN_IMG_PATH = os.path.join(DATA_PATH, 'train')\n",
    "TEST_IMG_PATH = os.path.join(DATA_PATH, 'test')\n",
    "\n",
    "# CSV 파일 경로\n",
    "df_train = pd.read_csv(os.path.join(DATA_PATH, 'train.csv'))\n",
    "df_test = pd.read_csv(os.path.join(DATA_PATH, 'test.csv'))\n",
    "df_class = pd.read_csv(os.path.join(DATA_PATH, 'class.csv'))"
   ]
  },
  {
   "cell_type": "code",
   "execution_count": 3,
   "metadata": {},
   "outputs": [
    {
     "name": "stdout",
     "output_type": "stream",
     "text": [
      "Train file 누락 없음!\n",
      "Test file 누락 없음!\n"
     ]
    }
   ],
   "source": [
    "# Data 누락 체크\n",
    "if set(list(df_train.img_file)) == set(os.listdir(TRAIN_IMG_PATH)) :\n",
    "    print(\"Train file 누락 없음!\")\n",
    "else : \n",
    "    print(\"Train file 누락\")\n",
    "\n",
    "if set(list(df_test.img_file)) == set(os.listdir(TEST_IMG_PATH)) :\n",
    "    print(\"Test file 누락 없음!\")\n",
    "else : \n",
    "    print(\"Test file 누락\")"
   ]
  },
  {
   "cell_type": "code",
   "execution_count": 4,
   "metadata": {},
   "outputs": [
    {
     "name": "stdout",
     "output_type": "stream",
     "text": [
      "Number of Train Data : 10016\n",
      "Number of Test Data : 6169\n"
     ]
    }
   ],
   "source": [
    "# Data 갯수\n",
    "print(\"Number of Train Data : {}\".format(df_train.shape[0]))\n",
    "print(\"Number of Test Data : {}\".format(df_test.shape[0]))"
   ]
  },
  {
   "cell_type": "code",
   "execution_count": 5,
   "metadata": {},
   "outputs": [],
   "source": [
    "def draw_rect(drawcontext, pos, outline=None, width=0):\n",
    "    (x1, y1) = (pos[0], pos[1])\n",
    "    (x2, y2) = (pos[2], pos[3])\n",
    "    points = (x1, y1), (x2, y1), (x2, y2), (x1, y2), (x1, y1)\n",
    "    drawcontext.line(points, fill=outline, width=width)\n",
    "\n",
    "def make_boxing_img(img_name) :\n",
    "    if img_name.split('_')[0] == \"train\" :\n",
    "        PATH = TRAIN_IMG_PATH\n",
    "        data = df_train\n",
    "    elif img_name.split('_')[0] == \"test\" :\n",
    "        PATH = TEST_IMG_PATH\n",
    "        data = df_test\n",
    "        \n",
    "    img = PIL.Image.open(os.path.join(PATH, img_name))\n",
    "    pos = data.loc[data[\"img_file\"] == img_name, \\\n",
    "                   ['bbox_x1','bbox_y1', 'bbox_x2', 'bbox_y2']].values.reshape(-1)\n",
    "    draw = ImageDraw.Draw(img)\n",
    "    draw_rect(draw, pos, outline='red', width=10)\n",
    "    width = (pos[2]-pos[0])\n",
    "    height = (pos[3]-pos[1])\n",
    "    boxsize = width * height\n",
    "    print('width', width)\n",
    "    print('height', height)\n",
    "    print(boxsize)\n",
    "    return img"
   ]
  },
  {
   "cell_type": "code",
   "execution_count": 7,
   "metadata": {},
   "outputs": [],
   "source": [
    "\"\"\"\n",
    "df = pd.DataFrame(columns=(\"name\", \"width\", \"height\", \"size\"))\n",
    "\n",
    "tmp_imgs = df_train['img_file']\n",
    "for num in range(len(tmp_imgs)):\n",
    "    pos = df_train.loc[df_train[\"img_file\"] == tmp_imgs[num], \\\n",
    "                   ['bbox_x1','bbox_y1', 'bbox_x2', 'bbox_y2']].values.reshape(-1)\n",
    "    width = (pos[2]-pos[0])\n",
    "    height = (pos[3]-pos[1])\n",
    "    boxsize = width * height\n",
    "    \n",
    "    boxsize = pd.DataFrame(data=[[tmp_imgs[num], width, height, boxsize]],\n",
    "                           columns=(\"name\", \"width\", \"height\", \"size\"))\n",
    "    df = df.append(boxsize)\n",
    "    df = df.reset_index(drop=True)\n",
    "    \n",
    "#df.to_csv(\"./boxsize.csv\", mode='w')\n",
    "\"\"\""
   ]
  },
  {
   "cell_type": "code",
   "execution_count": 6,
   "metadata": {},
   "outputs": [],
   "source": [
    "# train dataset\n",
    "box_size = pd.read_csv(\"./boxsize.csv\")"
   ]
  },
  {
   "cell_type": "code",
   "execution_count": 10,
   "metadata": {},
   "outputs": [],
   "source": [
    "\"\"\"\n",
    "df = pd.DataFrame(columns=(\"name\", \"width\", \"height\", \"size\"))\n",
    "\n",
    "tmp_imgs = df_test['img_file']\n",
    "for num in range(len(tmp_imgs)):\n",
    "    pos = df_test.loc[df_test[\"img_file\"] == tmp_imgs[num], \\\n",
    "                   ['bbox_x1','bbox_y1', 'bbox_x2', 'bbox_y2']].values.reshape(-1)\n",
    "    width = (pos[2]-pos[0])\n",
    "    height = (pos[3]-pos[1])\n",
    "    boxsize = width * height\n",
    "    \n",
    "    boxsize = pd.DataFrame(data=[[tmp_imgs[num], width, height, boxsize]],\n",
    "                           columns=(\"name\", \"width\", \"height\", \"size\"))\n",
    "    df = df.append(boxsize)\n",
    "    df = df.reset_index(drop=True)\n",
    "\n",
    "#df.to_csv(\"./boxsize_test.csv\", mode='w')\n",
    "\"\"\""
   ]
  },
  {
   "cell_type": "code",
   "execution_count": 8,
   "metadata": {},
   "outputs": [],
   "source": [
    "box_size_test = pd.read_csv(\"./boxsize_test.csv\")"
   ]
  },
  {
   "cell_type": "markdown",
   "metadata": {},
   "source": [
    "size of bounding box    --- train dataset ---"
   ]
  },
  {
   "cell_type": "code",
   "execution_count": 7,
   "metadata": {},
   "outputs": [
    {
     "name": "stdout",
     "output_type": "stream",
     "text": [
      "mean size of bounding box :  249737.3846845048\n",
      "median of bounding box :  132305.0\n",
      "minimum size of bounding box :  1748\n",
      "maximum size of bounding box :  9937998\n",
      "\n",
      "\n",
      "mean size of width :  572.6619408945687\n",
      "median of width :  505.0\n",
      "minimum size of width :  70\n",
      "maximun size of width :  4545\n",
      "\n",
      "\n",
      "mean size of height :  307.9913138977636\n",
      "median of height :  262.0\n",
      "minimum size of height :  23\n",
      "maximum size of height :  2648\n"
     ]
    }
   ],
   "source": [
    "print('mean size of bounding box : ', box_size[\"size\"].mean())\n",
    "print('median of bounding box : ', box_size[\"size\"].median())\n",
    "print('minimum size of bounding box : ', box_size[\"size\"].min())\n",
    "print('maximum size of bounding box : ', box_size[\"size\"].max())\n",
    "print('\\n')\n",
    "print('mean size of width : ', box_size[\"width\"].mean())\n",
    "print('median of width : ', box_size[\"width\"].median())\n",
    "print('minimum size of width : ', box_size[\"width\"].min())\n",
    "print('maximun size of width : ', box_size[\"width\"].max())\n",
    "print('\\n')\n",
    "print('mean size of height : ', box_size[\"height\"].mean())\n",
    "print('median of height : ', box_size[\"height\"].median())\n",
    "print('minimum size of height : ', box_size[\"height\"].min())\n",
    "print('maximum size of height : ', box_size[\"height\"].max())"
   ]
  },
  {
   "cell_type": "markdown",
   "metadata": {},
   "source": [
    "size of bounding box    --- test dataset ---"
   ]
  },
  {
   "cell_type": "code",
   "execution_count": 9,
   "metadata": {},
   "outputs": [
    {
     "name": "stdout",
     "output_type": "stream",
     "text": [
      "mean size of bounding box :  251101.67920246394\n",
      "median of bounding box :  134550.0\n",
      "minimum size of bounding box :  2847\n",
      "maximum size of bounding box :  22459052\n",
      "\n",
      "\n",
      "mean size of width :  575.7412870805641\n",
      "median of width :  512.0\n",
      "minimum size of width :  73\n",
      "maximun size of width :  6629\n",
      "\n",
      "\n",
      "mean size of height :  309.64743070189655\n",
      "median of height :  262.0\n",
      "minimum size of height :  32\n",
      "maximum size of height :  3388\n"
     ]
    }
   ],
   "source": [
    "print('mean size of bounding box : ', box_size_test[\"size\"].mean())\n",
    "print('median of bounding box : ', box_size_test[\"size\"].median())\n",
    "print('minimum size of bounding box : ', box_size_test[\"size\"].min())\n",
    "print('maximum size of bounding box : ', box_size_test[\"size\"].max())\n",
    "print('\\n')\n",
    "print('mean size of width : ', box_size_test[\"width\"].mean())\n",
    "print('median of width : ', box_size_test[\"width\"].median())\n",
    "print('minimum size of width : ', box_size_test[\"width\"].min())\n",
    "print('maximun size of width : ', box_size_test[\"width\"].max())\n",
    "print('\\n')\n",
    "print('mean size of height : ', box_size_test[\"height\"].mean())\n",
    "print('median of height : ', box_size_test[\"height\"].median())\n",
    "print('minimum size of height : ', box_size_test[\"height\"].min())\n",
    "print('maximum size of height : ', box_size_test[\"height\"].max())"
   ]
  },
  {
   "cell_type": "code",
   "execution_count": null,
   "metadata": {},
   "outputs": [],
   "source": []
  }
 ],
 "metadata": {
  "kernelspec": {
   "display_name": "Python [default]",
   "language": "python",
   "name": "python3"
  },
  "language_info": {
   "codemirror_mode": {
    "name": "ipython",
    "version": 3
   },
   "file_extension": ".py",
   "mimetype": "text/x-python",
   "name": "python",
   "nbconvert_exporter": "python",
   "pygments_lexer": "ipython3",
   "version": "3.5.6"
  }
 },
 "nbformat": 4,
 "nbformat_minor": 2
}
